{
 "cells": [
  {
   "cell_type": "markdown",
   "id": "df3c46c2",
   "metadata": {},
   "source": [
    "# Import Libraries"
   ]
  },
  {
   "cell_type": "code",
   "execution_count": null,
   "id": "9c45f6ab",
   "metadata": {},
   "outputs": [],
   "source": [
    "import numpy as np\n",
    "import pandas as pd\n",
    "from sklearn import tree\n",
    "from sklearn import cluster\n",
    "from sklearn.metrics import confusion_matrix, ConfusionMatrixDisplay\n",
    "from sklearn.linear_model import LogisticRegression\n",
    "import matplotlib.pyplot as plt\n",
    "import warnings\n",
    "warnings.filterwarnings(\"ignore\")"
   ]
  },
  {
   "cell_type": "markdown",
   "id": "d77da46e",
   "metadata": {},
   "source": [
    "# Clustering"
   ]
  },
  {
   "cell_type": "markdown",
   "id": "566e55a7",
   "metadata": {},
   "source": [
    "## 1. Load Data"
   ]
  },
  {
   "cell_type": "code",
   "execution_count": null,
   "id": "e7b863ab",
   "metadata": {},
   "outputs": [],
   "source": [
    "data = pd.read_csv(\"iris-train.csv\", header=0, skiprows=[1,2], usecols = ['sepal length', 'sepal width', 'petal length', 'petal width'])"
   ]
  },
  {
   "cell_type": "markdown",
   "id": "a69bd206",
   "metadata": {},
   "source": [
    "## 2. View Data"
   ]
  },
  {
   "cell_type": "code",
   "execution_count": null,
   "id": "54cba16a",
   "metadata": {
    "scrolled": false
   },
   "outputs": [],
   "source": [
    "data"
   ]
  },
  {
   "attachments": {},
   "cell_type": "markdown",
   "id": "49e0e304",
   "metadata": {},
   "source": [
    "## 3. Clustering with k-Means"
   ]
  },
  {
   "cell_type": "code",
   "execution_count": null,
   "id": "bde8f372",
   "metadata": {
    "scrolled": true
   },
   "outputs": [],
   "source": [
    "kmeans = cluster.KMeans(n_clusters=3, random_state=0)\n",
    "kmeans.fit(data)\n",
    "kmeans.labels_"
   ]
  },
  {
   "cell_type": "markdown",
   "id": "dce2089c",
   "metadata": {},
   "source": [
    "## 4. Plot"
   ]
  },
  {
   "cell_type": "code",
   "execution_count": null,
   "id": "4373ddea",
   "metadata": {},
   "outputs": [],
   "source": [
    "%matplotlib inline\n",
    "target = pd.DataFrame(kmeans.labels_, columns = ['cluster'])\n",
    "dataset = pd.concat([data, target], axis = 1)\n",
    "plt.rcParams[\"figure.figsize\"] = [12, 9]\n",
    "colors = ['r', 'g', 'b']\n",
    "for i in range(0,3):\n",
    "    sub_data = dataset.loc[dataset['cluster'] == i]\n",
    "    plt.scatter(sub_data[\"sepal length\"], sub_data[\"sepal width\"], color=colors[i], s= 40, label=\"cluster \"+str(i))\n",
    "plt.xlabel('Sepal length',fontsize=30)\n",
    "plt.ylabel('Sepal width', fontsize=30)\n",
    "plt.legend()\n",
    "plt.show()"
   ]
  },
  {
   "cell_type": "markdown",
   "id": "43de7402",
   "metadata": {},
   "source": [
    "# Classification"
   ]
  },
  {
   "cell_type": "markdown",
   "id": "f4f4c40d",
   "metadata": {},
   "source": [
    "## 1. Load Data"
   ]
  },
  {
   "cell_type": "code",
   "execution_count": null,
   "id": "6812ed74",
   "metadata": {},
   "outputs": [],
   "source": [
    "train_data = pd.read_csv(\"iris-train.csv\", header=0, skiprows=[1,2])\n",
    "test_data = pd.read_csv(\"iris-test.csv\", header=0, skiprows=[1,2])"
   ]
  },
  {
   "cell_type": "markdown",
   "id": "49ba7431",
   "metadata": {},
   "source": [
    "## 2. Preprocess"
   ]
  },
  {
   "cell_type": "code",
   "execution_count": null,
   "id": "7615ff15",
   "metadata": {},
   "outputs": [],
   "source": [
    "class2num = {'Iris-versicolor': 0,\n",
    "             'Iris-setosa': 1, \n",
    "             'Iris-virginica': 2}\n",
    "train_x = train_data[['sepal length', 'sepal width', 'petal length', 'petal width']]\n",
    "test_x  = test_data[['sepal length', 'sepal width', 'petal length', 'petal width']]\n",
    "train_y = np.array([class2num[label] for label in train_data['class']])\n",
    "test_y = np.array([class2num[label] for label in test_data['class']])"
   ]
  },
  {
   "attachments": {},
   "cell_type": "markdown",
   "id": "7969ead4",
   "metadata": {},
   "source": [
    "## 3. Train Logistic Regression Model"
   ]
  },
  {
   "cell_type": "code",
   "execution_count": null,
   "id": "b765b017",
   "metadata": {
    "scrolled": true
   },
   "outputs": [],
   "source": [
    "clf = LogisticRegression(random_state=0)\n",
    "clf.fit(train_x, train_y)"
   ]
  },
  {
   "cell_type": "markdown",
   "id": "02ffc25f",
   "metadata": {},
   "source": [
    "## 4. Prediction"
   ]
  },
  {
   "cell_type": "code",
   "execution_count": null,
   "id": "5a79ea9f",
   "metadata": {},
   "outputs": [],
   "source": [
    "pred_y = clf.predict(test_x)"
   ]
  },
  {
   "cell_type": "markdown",
   "id": "2148bfa6",
   "metadata": {},
   "source": [
    "## 5. Evaluation"
   ]
  },
  {
   "cell_type": "code",
   "execution_count": null,
   "id": "1803d97b",
   "metadata": {
    "scrolled": false
   },
   "outputs": [],
   "source": [
    "cm = confusion_matrix(test_y, pred_y)\n",
    "disp = ConfusionMatrixDisplay(cm)\n",
    "disp.plot()"
   ]
  },
  {
   "cell_type": "code",
   "execution_count": null,
   "id": "a11ea4ad",
   "metadata": {},
   "outputs": [],
   "source": []
  }
 ],
 "metadata": {
  "kernelspec": {
   "display_name": "Python 3 (ipykernel)",
   "language": "python",
   "name": "python3"
  },
  "language_info": {
   "codemirror_mode": {
    "name": "ipython",
    "version": 3
   },
   "file_extension": ".py",
   "mimetype": "text/x-python",
   "name": "python",
   "nbconvert_exporter": "python",
   "pygments_lexer": "ipython3",
   "version": "3.9.12"
  }
 },
 "nbformat": 4,
 "nbformat_minor": 5
}
