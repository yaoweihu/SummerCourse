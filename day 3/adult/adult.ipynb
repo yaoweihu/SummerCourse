{
 "cells": [
  {
   "cell_type": "code",
   "execution_count": 1,
   "id": "a61e0a2b",
   "metadata": {},
   "outputs": [],
   "source": [
    "import numpy as np\n",
    "import pandas as pd\n",
    "from sklearn import tree\n",
    "from sklearn import cluster\n",
    "from sklearn.metrics import confusion_matrix, ConfusionMatrixDisplay\n",
    "from sklearn.linear_model import LogisticRegression\n",
    "from fairlearn.preprocessing import CorrelationRemover\n",
    "import matplotlib.pyplot as plt\n",
    "import warnings\n",
    "warnings.filterwarnings(\"ignore\")"
   ]
  },
  {
   "cell_type": "markdown",
   "id": "571b1919",
   "metadata": {},
   "source": [
    "## 1. Load Data"
   ]
  },
  {
   "cell_type": "code",
   "execution_count": 2,
   "id": "39119e08",
   "metadata": {},
   "outputs": [
    {
     "data": {
      "text/html": [
       "<div>\n",
       "<style scoped>\n",
       "    .dataframe tbody tr th:only-of-type {\n",
       "        vertical-align: middle;\n",
       "    }\n",
       "\n",
       "    .dataframe tbody tr th {\n",
       "        vertical-align: top;\n",
       "    }\n",
       "\n",
       "    .dataframe thead th {\n",
       "        text-align: right;\n",
       "    }\n",
       "</style>\n",
       "<table border=\"1\" class=\"dataframe\">\n",
       "  <thead>\n",
       "    <tr style=\"text-align: right;\">\n",
       "      <th></th>\n",
       "      <th>Age</th>\n",
       "      <th>Workclass</th>\n",
       "      <th>Education-Num</th>\n",
       "      <th>Martial Status</th>\n",
       "      <th>Occupation</th>\n",
       "      <th>Relationship</th>\n",
       "      <th>Race</th>\n",
       "      <th>Sex</th>\n",
       "      <th>Hours per week</th>\n",
       "      <th>Country</th>\n",
       "      <th>Target</th>\n",
       "    </tr>\n",
       "  </thead>\n",
       "  <tbody>\n",
       "    <tr>\n",
       "      <th>0</th>\n",
       "      <td>1</td>\n",
       "      <td>0</td>\n",
       "      <td>0</td>\n",
       "      <td>0</td>\n",
       "      <td>0</td>\n",
       "      <td>1</td>\n",
       "      <td>0</td>\n",
       "      <td>1</td>\n",
       "      <td>0</td>\n",
       "      <td>1</td>\n",
       "      <td>0</td>\n",
       "    </tr>\n",
       "    <tr>\n",
       "      <th>1</th>\n",
       "      <td>1</td>\n",
       "      <td>0</td>\n",
       "      <td>0</td>\n",
       "      <td>1</td>\n",
       "      <td>0</td>\n",
       "      <td>0</td>\n",
       "      <td>1</td>\n",
       "      <td>1</td>\n",
       "      <td>0</td>\n",
       "      <td>1</td>\n",
       "      <td>0</td>\n",
       "    </tr>\n",
       "    <tr>\n",
       "      <th>2</th>\n",
       "      <td>0</td>\n",
       "      <td>0</td>\n",
       "      <td>1</td>\n",
       "      <td>1</td>\n",
       "      <td>0</td>\n",
       "      <td>0</td>\n",
       "      <td>1</td>\n",
       "      <td>0</td>\n",
       "      <td>0</td>\n",
       "      <td>0</td>\n",
       "      <td>0</td>\n",
       "    </tr>\n",
       "    <tr>\n",
       "      <th>3</th>\n",
       "      <td>0</td>\n",
       "      <td>0</td>\n",
       "      <td>1</td>\n",
       "      <td>1</td>\n",
       "      <td>0</td>\n",
       "      <td>0</td>\n",
       "      <td>0</td>\n",
       "      <td>0</td>\n",
       "      <td>0</td>\n",
       "      <td>1</td>\n",
       "      <td>0</td>\n",
       "    </tr>\n",
       "    <tr>\n",
       "      <th>4</th>\n",
       "      <td>1</td>\n",
       "      <td>0</td>\n",
       "      <td>0</td>\n",
       "      <td>0</td>\n",
       "      <td>0</td>\n",
       "      <td>1</td>\n",
       "      <td>1</td>\n",
       "      <td>0</td>\n",
       "      <td>0</td>\n",
       "      <td>0</td>\n",
       "      <td>0</td>\n",
       "    </tr>\n",
       "    <tr>\n",
       "      <th>...</th>\n",
       "      <td>...</td>\n",
       "      <td>...</td>\n",
       "      <td>...</td>\n",
       "      <td>...</td>\n",
       "      <td>...</td>\n",
       "      <td>...</td>\n",
       "      <td>...</td>\n",
       "      <td>...</td>\n",
       "      <td>...</td>\n",
       "      <td>...</td>\n",
       "      <td>...</td>\n",
       "    </tr>\n",
       "    <tr>\n",
       "      <th>32554</th>\n",
       "      <td>0</td>\n",
       "      <td>0</td>\n",
       "      <td>1</td>\n",
       "      <td>1</td>\n",
       "      <td>0</td>\n",
       "      <td>0</td>\n",
       "      <td>0</td>\n",
       "      <td>0</td>\n",
       "      <td>0</td>\n",
       "      <td>1</td>\n",
       "      <td>0</td>\n",
       "    </tr>\n",
       "    <tr>\n",
       "      <th>32555</th>\n",
       "      <td>1</td>\n",
       "      <td>0</td>\n",
       "      <td>0</td>\n",
       "      <td>1</td>\n",
       "      <td>0</td>\n",
       "      <td>0</td>\n",
       "      <td>0</td>\n",
       "      <td>1</td>\n",
       "      <td>0</td>\n",
       "      <td>1</td>\n",
       "      <td>1</td>\n",
       "    </tr>\n",
       "    <tr>\n",
       "      <th>32556</th>\n",
       "      <td>1</td>\n",
       "      <td>0</td>\n",
       "      <td>0</td>\n",
       "      <td>0</td>\n",
       "      <td>0</td>\n",
       "      <td>0</td>\n",
       "      <td>0</td>\n",
       "      <td>0</td>\n",
       "      <td>0</td>\n",
       "      <td>1</td>\n",
       "      <td>0</td>\n",
       "    </tr>\n",
       "    <tr>\n",
       "      <th>32557</th>\n",
       "      <td>0</td>\n",
       "      <td>0</td>\n",
       "      <td>0</td>\n",
       "      <td>0</td>\n",
       "      <td>0</td>\n",
       "      <td>0</td>\n",
       "      <td>0</td>\n",
       "      <td>1</td>\n",
       "      <td>0</td>\n",
       "      <td>1</td>\n",
       "      <td>0</td>\n",
       "    </tr>\n",
       "    <tr>\n",
       "      <th>32558</th>\n",
       "      <td>1</td>\n",
       "      <td>1</td>\n",
       "      <td>0</td>\n",
       "      <td>1</td>\n",
       "      <td>0</td>\n",
       "      <td>0</td>\n",
       "      <td>0</td>\n",
       "      <td>0</td>\n",
       "      <td>0</td>\n",
       "      <td>1</td>\n",
       "      <td>1</td>\n",
       "    </tr>\n",
       "  </tbody>\n",
       "</table>\n",
       "<p>32559 rows × 11 columns</p>\n",
       "</div>"
      ],
      "text/plain": [
       "       Age  Workclass  Education-Num  Martial Status  Occupation  \\\n",
       "0        1          0              0               0           0   \n",
       "1        1          0              0               1           0   \n",
       "2        0          0              1               1           0   \n",
       "3        0          0              1               1           0   \n",
       "4        1          0              0               0           0   \n",
       "...    ...        ...            ...             ...         ...   \n",
       "32554    0          0              1               1           0   \n",
       "32555    1          0              0               1           0   \n",
       "32556    1          0              0               0           0   \n",
       "32557    0          0              0               0           0   \n",
       "32558    1          1              0               1           0   \n",
       "\n",
       "       Relationship  Race  Sex  Hours per week  Country  Target  \n",
       "0                 1     0    1               0        1       0  \n",
       "1                 0     1    1               0        1       0  \n",
       "2                 0     1    0               0        0       0  \n",
       "3                 0     0    0               0        1       0  \n",
       "4                 1     1    0               0        0       0  \n",
       "...             ...   ...  ...             ...      ...     ...  \n",
       "32554             0     0    0               0        1       0  \n",
       "32555             0     0    1               0        1       1  \n",
       "32556             0     0    0               0        1       0  \n",
       "32557             0     0    1               0        1       0  \n",
       "32558             0     0    0               0        1       1  \n",
       "\n",
       "[32559 rows x 11 columns]"
      ]
     },
     "execution_count": 2,
     "metadata": {},
     "output_type": "execute_result"
    }
   ],
   "source": [
    "train_data = pd.read_csv(\"adult-train.csv\", header=0, skiprows=[1,2])\n",
    "test_data = pd.read_csv(\"adult-test.csv\", header=0, skiprows=[1,2])\n",
    "train_data"
   ]
  },
  {
   "cell_type": "code",
   "execution_count": 3,
   "id": "57e5fa42",
   "metadata": {},
   "outputs": [],
   "source": [
    "train_y = train_data['Target']\n",
    "train_x = train_data.drop(['Target'], axis=1)\n",
    "test_y = test_data['Target']\n",
    "test_x = test_data.drop(['Target'], axis=1)"
   ]
  },
  {
   "cell_type": "markdown",
   "id": "0468b9b4",
   "metadata": {},
   "source": [
    "## 2.1 Classification with Logistic Regression"
   ]
  },
  {
   "cell_type": "code",
   "execution_count": 4,
   "id": "61427e75",
   "metadata": {},
   "outputs": [],
   "source": [
    "clf = LogisticRegression(random_state=0)\n",
    "clf.fit(train_x, train_y)\n",
    "pred_y = clf.predict(test_x)"
   ]
  },
  {
   "cell_type": "code",
   "execution_count": 5,
   "id": "e4d22e35",
   "metadata": {},
   "outputs": [
    {
     "data": {
      "text/plain": [
       "0.8179249339640027"
      ]
     },
     "execution_count": 5,
     "metadata": {},
     "output_type": "execute_result"
    }
   ],
   "source": [
    "acc = sum(pred_y == test_y) / len(test_y)\n",
    "acc"
   ]
  },
  {
   "cell_type": "code",
   "execution_count": 6,
   "id": "8d958215",
   "metadata": {},
   "outputs": [
    {
     "data": {
      "text/plain": [
       "Text(0, 0.5, 'P(y=1)')"
      ]
     },
     "execution_count": 6,
     "metadata": {},
     "output_type": "execute_result"
    },
    {
     "data": {
      "image/png": "[encoded data removed]",
      "text/plain": [
       "<Figure size 432x288 with 1 Axes>"
      ]
     },
     "metadata": {
      "needs_background": "light"
     },
     "output_type": "display_data"
    }
   ],
   "source": [
    "pos = pred_y[test_x['Sex'] == 1]\n",
    "neg = pred_y[test_x['Sex'] == 0]\n",
    "y_pos = sum(pos == 1) / len(pos)\n",
    "y_neg = sum(neg == 1) / len(neg)\n",
    "\n",
    "plt.bar(['Male', 'Female'], [y_pos, y_neg])\n",
    "plt.ylabel('P(y=1)')"
   ]
  },
  {
   "cell_type": "markdown",
   "id": "a793ed4b",
   "metadata": {},
   "source": [
    "# 2.2 Fair Classification"
   ]
  },
  {
   "cell_type": "code",
   "execution_count": 15,
   "id": "854fc54c",
   "metadata": {},
   "outputs": [],
   "source": [
    "cr = CorrelationRemover(sensitive_feature_ids=[\"Sex\"])\n",
    "train_x_cr = cr.fit_transform(train_x)\n",
    "test_x_cr = cr.transform(test_x)"
   ]
  },
  {
   "cell_type": "code",
   "execution_count": 17,
   "id": "5eeb53b5",
   "metadata": {},
   "outputs": [],
   "source": [
    "clf = LogisticRegression(random_state=0)\n",
    "clf.fit(train_x_cr, train_y)\n",
    "pred_y = clf.predict(test_x_cr)"
   ]
  },
  {
   "cell_type": "code",
   "execution_count": 18,
   "id": "9db3e795",
   "metadata": {},
   "outputs": [
    {
     "data": {
      "text/plain": [
       "0.8119049081638922"
      ]
     },
     "execution_count": 18,
     "metadata": {},
     "output_type": "execute_result"
    }
   ],
   "source": [
    "acc = sum(pred_y == test_y) / len(test_y)\n",
    "acc"
   ]
  },
  {
   "cell_type": "code",
   "execution_count": 19,
   "id": "5bebf7b5",
   "metadata": {},
   "outputs": [
    {
     "data": {
      "text/plain": [
       "Text(0, 0.5, 'P(y=1)')"
      ]
     },
     "execution_count": 19,
     "metadata": {},
     "output_type": "execute_result"
    },
    {
     "data": {
      "image/png": "[encoded data removed]",
      "text/plain": [
       "<Figure size 432x288 with 1 Axes>"
      ]
     },
     "metadata": {
      "needs_background": "light"
     },
     "output_type": "display_data"
    }
   ],
   "source": [
    "pos = pred_y[test_x['Sex'] == 1]\n",
    "neg = pred_y[test_x['Sex'] == 0]\n",
    "y_pos = sum(pos == 1) / len(pos)\n",
    "y_neg = sum(neg == 1) / len(neg)\n",
    "\n",
    "plt.bar(['Male', 'Female'], [y_pos, y_neg])\n",
    "plt.ylabel('P(y=1)')"
   ]
  },
  {
   "cell_type": "code",
   "execution_count": null,
   "id": "3de7196a",
   "metadata": {},
   "outputs": [],
   "source": []
  }
 ],
 "metadata": {
  "kernelspec": {
   "display_name": "Python 3 (ipykernel)",
   "language": "python",
   "name": "python3"
  },
  "language_info": {
   "codemirror_mode": {
    "name": "ipython",
    "version": 3
   },
   "file_extension": ".py",
   "mimetype": "text/x-python",
   "name": "python",
   "nbconvert_exporter": "python",
   "pygments_lexer": "ipython3",
   "version": "3.9.12"
  }
 },
 "nbformat": 4,
 "nbformat_minor": 5
}
